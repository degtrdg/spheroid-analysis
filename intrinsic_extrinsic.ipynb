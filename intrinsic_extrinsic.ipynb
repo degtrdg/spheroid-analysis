{
 "cells": [
  {
   "cell_type": "code",
   "execution_count": 2,
   "metadata": {},
   "outputs": [],
   "source": [
    "import cv2\n",
    "import matplotlib.pyplot as plt\n",
    "from PIL import Image\n",
    "import numpy as np\n",
    "import math\n",
    "import tifffile\n",
    "from library import helper\n",
    "from library import plots\n",
    "percent_of_side = 0.05"
   ]
  },
  {
   "cell_type": "code",
   "execution_count": null,
   "metadata": {},
   "outputs": [],
   "source": [
    "_, blue = cv2.imreadmulti('data/Blue-34a-dbl_0002.tiff', [], cv2.IMREAD_UNCHANGED)\n",
    "_, red = cv2.imreadmulti('data/Red-34a-dbl_0002.tiff', [], cv2.IMREAD_UNCHANGED)\n",
    "_, composite = cv2.imreadmulti('data/Composite-34a-dbl_0002.tiff', [], cv2.IMREAD_GRAYSCALE)"
   ]
  },
  {
   "cell_type": "code",
   "execution_count": null,
   "metadata": {},
   "outputs": [],
   "source": [
    "blue_composite = [(blue[i], composite[i]) for i in range(len(composite))]\n",
    "red_composite = [(red[i], composite[i]) for i in range(len(composite))]\n",
    "\n",
    "#Blue\n",
    "images = []\n",
    "for idx, (bl, cmp) in enumerate(blue_composite):\n",
    "    if idx < len(blue_composite)*0.05 or idx > len(blue_composite)*0.95:\n",
    "        point = helper.get_intensity_pictures(bl, cmp, outer_bool=True)\n",
    "    else:\n",
    "        point = helper.get_intensity_pictures(bl, cmp)\n",
    "    images.append(point)"
   ]
  },
  {
   "cell_type": "code",
   "execution_count": null,
   "metadata": {},
   "outputs": [],
   "source": [
    "#Intensity images\n",
    "images = []\n",
    "# for idx, cmp in enumerate(composite):\n",
    "for idx, (blue,cmp) in enumerate(blue_composite):\n",
    "    if idx < len(composite)*percent_of_side or idx > len(composite)*(1-percent_of_side):\n",
    "        point = helper.get_intensity_pictures(cmp, outer_bool=True)\n",
    "    else:\n",
    "        point = helper.get_intensity_pictures(cmp)\n",
    "    images.append(point)\n",
    "#Blue\n",
    "points_blue = []\n",
    "for idx, (bl, cmp) in enumerate(blue_composite):\n",
    "    if idx < len(blue_composite)*percent_of_side or idx > len(blue_composite)*(1-percent_of_side):\n",
    "        point = helper.get_intensity_points(bl, cmp, outer_bool=True)\n",
    "    else:\n",
    "        point = helper.get_intensity_points(bl, cmp)\n",
    "    points_blue.append(point)\n",
    "\n",
    "#Red\n",
    "points_red = []\n",
    "for idx, (rd, cmp) in enumerate(red_composite):\n",
    "    if idx < len(red_composite)*percent_of_side or idx > len(red_composite)*(1-percent_of_side):\n",
    "        point = helper.get_intensity_points(rd, cmp, outer_bool=True)\n",
    "    else:\n",
    "        point = helper.get_intensity_points(rd, cmp)\n",
    "    points_red.append(point)\n"
   ]
  },
  {
   "cell_type": "code",
   "execution_count": null,
   "metadata": {},
   "outputs": [],
   "source": [
    "FRAMES = [inner for inner, outer, comp in images] + [outer for inner, outer, comp in images] +  [comp for inner, outer, comp in images]\n",
    "OUT_NAME = \"blue_2.tiff\" # Name to save to\n",
    "with tifffile.TiffWriter(OUT_NAME) as tiff:\n",
    "    for img in FRAMES:\n",
    "        tiff.save(img)"
   ]
  },
  {
   "cell_type": "code",
   "execution_count": null,
   "metadata": {},
   "outputs": [],
   "source": [
    "inner_points_blue = [j for i in points_blue for j in i[0]]\n",
    "inner_points_red = [j for i in points_red for j in i[0]]\n",
    "outer_points_blue = [j for i in points_blue for j in i[1]]\n",
    "outer_points_red = [j for i in points_red for j in i[1]]"
   ]
  },
  {
   "cell_type": "code",
   "execution_count": null,
   "metadata": {},
   "outputs": [],
   "source": [
    "#Intrinsic and extrinsic noise for inner\n",
    "#intrinsic = (1/n)*sum([0.5*(blue - red)**2 for blue, red in zip(blue_intensities, red_intensities)])/(mean(blue_intensities) * mean(red_intensities))\n",
    "#extrinsic = (1/n)*sum([blue*red - mean(blue_intesity)*mean(red_intensity) for blue, red in zip(blue_intensities, red_intensities)])/(mean(blue_intensities) * mean(red_intensities))\n",
    "#total = (1/n)*sum([0.5*(blue**2 - red**2) - mean(blue_intesity)*mean(red_intensity) for blue, red in zip(blue_intensities, red_intensities)])/(mean(blue_intensities) * mean(red_intensities))\n",
    "inner_points_blue_mean = np.mean(inner_points_blue)\n",
    "inner_points_red_mean = np.mean(inner_points_red)\n",
    "inner_intrinsic = (1/len(inner_points_blue))*sum([0.5*(blue - red)**2 for blue, red in zip(inner_points_blue, inner_points_red)])/(inner_points_blue_mean * inner_points_red_mean)\n",
    "\n",
    "outer_points_blue_mean = np.mean(outer_points_blue)\n",
    "outer_points_red_mean = np.mean(outer_points_red)\n",
    "outer_intrinsic = (1/len(outer_points_blue))*sum([0.5*(blue - red)**2 for blue, red in zip(outer_points_blue, outer_points_red)])/(outer_points_blue_mean * outer_points_red_mean)"
   ]
  },
  {
   "cell_type": "code",
   "execution_count": null,
   "metadata": {},
   "outputs": [],
   "source": [
    "inner_extrinsic = (1/len(inner_points_blue))*sum([blue*red - inner_points_red_mean*inner_points_blue_mean for blue, red in zip(inner_points_blue, inner_points_red)])/(inner_points_blue_mean * inner_points_red_mean)\n",
    "outer_extrinsic = (1/len(outer_points_blue))*sum([blue*red - outer_points_red_mean*outer_points_blue_mean for blue, red in zip(outer_points_blue, outer_points_red)])/(outer_points_blue_mean * outer_points_red_mean)"
   ]
  },
  {
   "cell_type": "code",
   "execution_count": null,
   "metadata": {},
   "outputs": [],
   "source": [
    "inner_total = (1/len(inner_points_blue))*sum([0.5*(blue**2 - red**2) -  inner_points_red_mean*inner_points_blue_mean for blue, red in zip(inner_points_blue, inner_points_red)])/(inner_points_red_mean*inner_points_blue_mean )\n",
    "outer_total = (1/len(outer_points_blue))*sum([0.5*(blue**2 - red**2) -  outer_points_red_mean*outer_points_blue_mean for blue, red in zip(outer_points_blue, outer_points_red)])/(outer_points_red_mean*outer_points_blue_mean )"
   ]
  },
  {
   "cell_type": "code",
   "execution_count": null,
   "metadata": {},
   "outputs": [],
   "source": [
    "inner_intrinsic,inner_extrinsic,inner_total"
   ]
  },
  {
   "cell_type": "code",
   "execution_count": null,
   "metadata": {},
   "outputs": [],
   "source": [
    "outer_intrinsic,outer_extrinsic,outer_total"
   ]
  }
 ],
 "metadata": {
  "kernelspec": {
   "display_name": "base",
   "language": "python",
   "name": "python3"
  },
  "language_info": {
   "codemirror_mode": {
    "name": "ipython",
    "version": 3
   },
   "file_extension": ".py",
   "mimetype": "text/x-python",
   "name": "python",
   "nbconvert_exporter": "python",
   "pygments_lexer": "ipython3",
   "version": "3.9.10"
  },
  "orig_nbformat": 4,
  "vscode": {
   "interpreter": {
    "hash": "224d2b38dd5c4bf9bb346b4b7ffc570356b5a9eca7c29d4f05461d7abc1d8f91"
   }
  }
 },
 "nbformat": 4,
 "nbformat_minor": 2
}
