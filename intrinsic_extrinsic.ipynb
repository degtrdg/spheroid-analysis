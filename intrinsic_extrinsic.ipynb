{
 "cells": [
  {
   "cell_type": "code",
   "execution_count": 1,
   "metadata": {},
   "outputs": [],
   "source": [
    "import cv2\n",
    "import matplotlib.pyplot as plt\n",
    "from PIL import Image\n",
    "import numpy as np\n",
    "import math\n",
    "import tifffile\n",
    "from library import helper\n",
    "from library import plots\n",
    "percent_of_side = 0.05"
   ]
  },
  {
   "cell_type": "code",
   "execution_count": 2,
   "metadata": {},
   "outputs": [],
   "source": [
    "_, blue = cv2.imreadmulti('data/Blue-34a-dbl_0002.tiff', [], cv2.IMREAD_UNCHANGED)\n",
    "_, red = cv2.imreadmulti('data/Red-34a-dbl_0002.tiff', [], cv2.IMREAD_UNCHANGED)\n",
    "_, composite = cv2.imreadmulti('data/Composite-34a-dbl_0002.tiff', [], cv2.IMREAD_GRAYSCALE)"
   ]
  },
  {
   "cell_type": "code",
   "execution_count": 3,
   "metadata": {},
   "outputs": [
    {
     "ename": "TypeError",
     "evalue": "get_intensity_pictures() got multiple values for argument 'outer_bool'",
     "output_type": "error",
     "traceback": [
      "\u001b[0;31m---------------------------------------------------------------------------\u001b[0m",
      "\u001b[0;31mTypeError\u001b[0m                                 Traceback (most recent call last)",
      "\u001b[1;32m/Users/danielgeorge/Documents/work/bio/spheroid/clean/spheroid-analysis/intrinsic_extrinsic.ipynb Cell 3\u001b[0m in \u001b[0;36m<cell line: 6>\u001b[0;34m()\u001b[0m\n\u001b[1;32m      <a href='vscode-notebook-cell:/Users/danielgeorge/Documents/work/bio/spheroid/clean/spheroid-analysis/intrinsic_extrinsic.ipynb#W2sZmlsZQ%3D%3D?line=5'>6</a>\u001b[0m \u001b[39mfor\u001b[39;00m idx, (bl, cmp) \u001b[39min\u001b[39;00m \u001b[39menumerate\u001b[39m(blue_composite):\n\u001b[1;32m      <a href='vscode-notebook-cell:/Users/danielgeorge/Documents/work/bio/spheroid/clean/spheroid-analysis/intrinsic_extrinsic.ipynb#W2sZmlsZQ%3D%3D?line=6'>7</a>\u001b[0m     \u001b[39mif\u001b[39;00m idx \u001b[39m<\u001b[39m \u001b[39mlen\u001b[39m(blue_composite)\u001b[39m*\u001b[39m\u001b[39m0.05\u001b[39m \u001b[39mor\u001b[39;00m idx \u001b[39m>\u001b[39m \u001b[39mlen\u001b[39m(blue_composite)\u001b[39m*\u001b[39m\u001b[39m0.95\u001b[39m:\n\u001b[0;32m----> <a href='vscode-notebook-cell:/Users/danielgeorge/Documents/work/bio/spheroid/clean/spheroid-analysis/intrinsic_extrinsic.ipynb#W2sZmlsZQ%3D%3D?line=7'>8</a>\u001b[0m         point \u001b[39m=\u001b[39m helper\u001b[39m.\u001b[39;49mget_intensity_pictures(bl, cmp, outer_bool\u001b[39m=\u001b[39;49m\u001b[39mTrue\u001b[39;49;00m)\n\u001b[1;32m      <a href='vscode-notebook-cell:/Users/danielgeorge/Documents/work/bio/spheroid/clean/spheroid-analysis/intrinsic_extrinsic.ipynb#W2sZmlsZQ%3D%3D?line=8'>9</a>\u001b[0m     \u001b[39melse\u001b[39;00m:\n\u001b[1;32m     <a href='vscode-notebook-cell:/Users/danielgeorge/Documents/work/bio/spheroid/clean/spheroid-analysis/intrinsic_extrinsic.ipynb#W2sZmlsZQ%3D%3D?line=9'>10</a>\u001b[0m         point \u001b[39m=\u001b[39m helper\u001b[39m.\u001b[39mget_intensity_pictures(bl, cmp)\n",
      "\u001b[0;31mTypeError\u001b[0m: get_intensity_pictures() got multiple values for argument 'outer_bool'"
     ]
    }
   ],
   "source": [
    "blue_composite = [(blue[i], composite[i]) for i in range(len(composite))]\n",
    "red_composite = [(red[i], composite[i]) for i in range(len(composite))]\n",
    "\n",
    "#Blue\n",
    "images = []\n",
    "for idx, (bl, cmp) in enumerate(blue_composite):\n",
    "    if idx < len(blue_composite)*0.05 or idx > len(blue_composite)*0.95:\n",
    "        point = helper.get_intensity_pictures(bl, cmp, outer_bool=True)\n",
    "    else:\n",
    "        point = helper.get_intensity_pictures(bl, cmp)\n",
    "    images.append(point)"
   ]
  },
  {
   "cell_type": "code",
   "execution_count": 4,
   "metadata": {},
   "outputs": [],
   "source": [
    "#Intensity images\n",
    "images = []\n",
    "# for idx, cmp in enumerate(composite):\n",
    "for idx, (blue,cmp) in enumerate(blue_composite):\n",
    "    if idx < len(composite)*percent_of_side or idx > len(composite)*(1-percent_of_side):\n",
    "        point = helper.get_intensity_pictures(cmp, outer_bool=True)\n",
    "    else:\n",
    "        point = helper.get_intensity_pictures(cmp)\n",
    "    images.append(point)\n",
    "#Blue\n",
    "points_blue = []\n",
    "for idx, (bl, cmp) in enumerate(blue_composite):\n",
    "    if idx < len(blue_composite)*percent_of_side or idx > len(blue_composite)*(1-percent_of_side):\n",
    "        point = helper.get_intensity_points(bl, cmp, outer_bool=True)\n",
    "    else:\n",
    "        point = helper.get_intensity_points(bl, cmp)\n",
    "    points_blue.append(point)\n",
    "\n",
    "#Red\n",
    "points_red = []\n",
    "for idx, (rd, cmp) in enumerate(red_composite):\n",
    "    if idx < len(red_composite)*percent_of_side or idx > len(red_composite)*(1-percent_of_side):\n",
    "        point = helper.get_intensity_points(rd, cmp, outer_bool=True)\n",
    "    else:\n",
    "        point = helper.get_intensity_points(rd, cmp)\n",
    "    points_red.append(point)\n"
   ]
  },
  {
   "cell_type": "code",
   "execution_count": 5,
   "metadata": {},
   "outputs": [
    {
     "name": "stderr",
     "output_type": "stream",
     "text": [
      "/var/folders/9m/qcg58ft12w72z4h1j7s196w00000gn/T/ipykernel_11248/2769783586.py:5: DeprecationWarning: <tifffile.TiffWriter.save> is deprecated. Use TiffWriter.write\n",
      "  tiff.save(img)\n"
     ]
    }
   ],
   "source": [
    "FRAMES = [inner for inner, outer, comp in images] + [outer for inner, outer, comp in images] +  [comp for inner, outer, comp in images]\n",
    "OUT_NAME = \"blue_2.tiff\" # Name to save to\n",
    "with tifffile.TiffWriter(OUT_NAME) as tiff:\n",
    "    for img in FRAMES:\n",
    "        tiff.save(img)"
   ]
  },
  {
   "cell_type": "code",
   "execution_count": 6,
   "metadata": {},
   "outputs": [],
   "source": [
    "inner_points_blue = [j for i in points_blue for j in i[0]]\n",
    "inner_points_red = [j for i in points_red for j in i[0]]\n",
    "outer_points_blue = [j for i in points_blue for j in i[1]]\n",
    "outer_points_red = [j for i in points_red for j in i[1]]"
   ]
  },
  {
   "cell_type": "code",
   "execution_count": 7,
   "metadata": {},
   "outputs": [
    {
     "name": "stderr",
     "output_type": "stream",
     "text": [
      "/var/folders/9m/qcg58ft12w72z4h1j7s196w00000gn/T/ipykernel_11248/3326364238.py:7: RuntimeWarning: overflow encountered in ushort_scalars\n",
      "  inner_intrinsic = (1/len(inner_points_blue))*sum([0.5*(blue - red)**2 for blue, red in zip(inner_points_blue, inner_points_red)])/(inner_points_blue_mean * inner_points_red_mean)\n",
      "/var/folders/9m/qcg58ft12w72z4h1j7s196w00000gn/T/ipykernel_11248/3326364238.py:11: RuntimeWarning: overflow encountered in ushort_scalars\n",
      "  outer_intrinsic = (1/len(outer_points_blue))*sum([0.5*(blue - red)**2 for blue, red in zip(outer_points_blue, outer_points_red)])/(outer_points_blue_mean * outer_points_red_mean)\n"
     ]
    }
   ],
   "source": [
    "#Intrinsic and extrinsic noise for inner\n",
    "#intrinsic = (1/n)*sum([0.5*(blue - red)**2 for blue, red in zip(blue_intensities, red_intensities)])/(mean(blue_intensities) * mean(red_intensities))\n",
    "#extrinsic = (1/n)*sum([blue*red - mean(blue_intesity)*mean(red_intensity) for blue, red in zip(blue_intensities, red_intensities)])/(mean(blue_intensities) * mean(red_intensities))\n",
    "#total = (1/n)*sum([0.5*(blue**2 - red**2) - mean(blue_intesity)*mean(red_intensity) for blue, red in zip(blue_intensities, red_intensities)])/(mean(blue_intensities) * mean(red_intensities))\n",
    "inner_points_blue_mean = np.mean(inner_points_blue)\n",
    "inner_points_red_mean = np.mean(inner_points_red)\n",
    "inner_intrinsic = (1/len(inner_points_blue))*sum([0.5*(blue - red)**2 for blue, red in zip(inner_points_blue, inner_points_red)])/(inner_points_blue_mean * inner_points_red_mean)\n",
    "\n",
    "outer_points_blue_mean = np.mean(outer_points_blue)\n",
    "outer_points_red_mean = np.mean(outer_points_red)\n",
    "outer_intrinsic = (1/len(outer_points_blue))*sum([0.5*(blue - red)**2 for blue, red in zip(outer_points_blue, outer_points_red)])/(outer_points_blue_mean * outer_points_red_mean)"
   ]
  },
  {
   "cell_type": "code",
   "execution_count": 8,
   "metadata": {},
   "outputs": [
    {
     "name": "stderr",
     "output_type": "stream",
     "text": [
      "/var/folders/9m/qcg58ft12w72z4h1j7s196w00000gn/T/ipykernel_11248/3606372120.py:1: RuntimeWarning: overflow encountered in ushort_scalars\n",
      "  inner_extrinsic = (1/len(inner_points_blue))*(sum([blue*red for blue, red in zip(inner_points_blue, inner_points_red)]) - inner_points_red_mean*inner_points_blue_mean) /(inner_points_blue_mean * inner_points_red_mean)\n",
      "/var/folders/9m/qcg58ft12w72z4h1j7s196w00000gn/T/ipykernel_11248/3606372120.py:2: RuntimeWarning: overflow encountered in ushort_scalars\n",
      "  outer_extrinsic = (1/len(outer_points_blue))*(sum([blue*red for blue, red in zip(outer_points_blue, outer_points_red)]) - outer_points_red_mean*outer_points_blue_mean) /(outer_points_blue_mean * outer_points_red_mean)\n"
     ]
    }
   ],
   "source": [
    "inner_extrinsic = (1/len(inner_points_blue))*(sum([blue*red for blue, red in zip(inner_points_blue, inner_points_red)]) - inner_points_red_mean*inner_points_blue_mean) /(inner_points_blue_mean * inner_points_red_mean)\n",
    "outer_extrinsic = (1/len(outer_points_blue))*(sum([blue*red for blue, red in zip(outer_points_blue, outer_points_red)]) - outer_points_red_mean*outer_points_blue_mean) /(outer_points_blue_mean * outer_points_red_mean)"
   ]
  },
  {
   "cell_type": "code",
   "execution_count": 12,
   "metadata": {},
   "outputs": [],
   "source": [
    "inner_total = (1/len(inner_points_blue))*(sum([0.5*(blue**2 + red**2) for blue, red in zip(inner_points_blue, inner_points_red)])-  inner_points_red_mean*inner_points_blue_mean)/(inner_points_red_mean*inner_points_blue_mean)\n",
    "outer_total = (1/len(outer_points_blue))*(sum([0.5*(blue**2 + red**2) for blue, red in zip(outer_points_blue, outer_points_red)])-  outer_points_red_mean*outer_points_blue_mean)/(outer_points_red_mean*outer_points_blue_mean)"
   ]
  },
  {
   "cell_type": "code",
   "execution_count": 13,
   "metadata": {},
   "outputs": [
    {
     "data": {
      "text/plain": [
       "(953.4647475454173, 0.043239770881738575, 1.490227410844598)"
      ]
     },
     "execution_count": 13,
     "metadata": {},
     "output_type": "execute_result"
    }
   ],
   "source": [
    "inner_intrinsic,inner_extrinsic,inner_total"
   ]
  },
  {
   "cell_type": "code",
   "execution_count": 14,
   "metadata": {},
   "outputs": [
    {
     "data": {
      "text/plain": [
       "(834.8982817516057, 0.03076054307595648, 1.5054462938347886)"
      ]
     },
     "execution_count": 14,
     "metadata": {},
     "output_type": "execute_result"
    }
   ],
   "source": [
    "outer_intrinsic,outer_extrinsic,outer_total"
   ]
  }
 ],
 "metadata": {
  "kernelspec": {
   "display_name": "base",
   "language": "python",
   "name": "python3"
  },
  "language_info": {
   "codemirror_mode": {
    "name": "ipython",
    "version": 3
   },
   "file_extension": ".py",
   "mimetype": "text/x-python",
   "name": "python",
   "nbconvert_exporter": "python",
   "pygments_lexer": "ipython3",
   "version": "3.9.10 | packaged by conda-forge | (main, Feb  1 2022, 21:27:43) \n[Clang 11.1.0 ]"
  },
  "orig_nbformat": 4,
  "vscode": {
   "interpreter": {
    "hash": "224d2b38dd5c4bf9bb346b4b7ffc570356b5a9eca7c29d4f05461d7abc1d8f91"
   }
  }
 },
 "nbformat": 4,
 "nbformat_minor": 2
}
