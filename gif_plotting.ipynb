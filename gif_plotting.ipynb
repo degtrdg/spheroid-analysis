{
 "cells": [
  {
   "cell_type": "code",
   "execution_count": 1,
   "metadata": {},
   "outputs": [],
   "source": [
    "import cv2\n",
    "import matplotlib.pyplot as plt\n",
    "from PIL import Image\n",
    "import numpy as np\n",
    "import math\n",
    "from library import helper\n",
    "from library import plots\n",
    "percent_of_side = 0.05"
   ]
  },
  {
   "attachments": {},
   "cell_type": "markdown",
   "metadata": {},
   "source": [
    "## Import images"
   ]
  },
  {
   "cell_type": "code",
   "execution_count": 4,
   "metadata": {},
   "outputs": [],
   "source": [
    "# Import images\n",
    "_, blue = cv2.imreadmulti('data/Blue-34a-dbl_0002.tiff', [], cv2.IMREAD_UNCHANGED)\n",
    "_, red = cv2.imreadmulti('data/Red-34a-dbl_0002.tiff', [], cv2.IMREAD_UNCHANGED)\n",
    "_, composite = cv2.imreadmulti('data/Composite-34a-dbl_0002.tiff', [], cv2.IMREAD_GRAYSCALE)\n",
    "# List of tuples of the form (blue, red, composite) \n",
    "blue_composite = [(blue[i], composite[i]) for i in range(len(composite))]#[90:95]\n",
    "red_composite = [(red[i], composite[i]) for i in range(len(composite))]#[90:95]\n",
    "red_blue_composite = [(red[i], blue[i], composite[i]) for i in range(len(composite))]#[90:95]"
   ]
  },
  {
   "attachments": {},
   "cell_type": "markdown",
   "metadata": {},
   "source": [
    "## Load data"
   ]
  },
  {
   "cell_type": "code",
   "execution_count": 5,
   "metadata": {},
   "outputs": [],
   "source": [
    "#Intensity images\n",
    "images = []\n",
    "for idx, (blue,cmp) in enumerate(blue_composite):\n",
    "    if idx < len(composite)*percent_of_side or idx > len(composite)*(1-percent_of_side):\n",
    "        point = helper.get_intensity_pictures(cmp, outer_bool=True)\n",
    "    else:\n",
    "        point = helper.get_intensity_pictures(cmp)\n",
    "    images.append(point)\n",
    "#Blue\n",
    "points_blue = []\n",
    "for idx, (bl, cmp) in enumerate(blue_composite):\n",
    "    if idx < len(blue_composite)*percent_of_side or idx > len(blue_composite)*(1-percent_of_side):\n",
    "        point = helper.get_intensity_points(bl, cmp, outer_bool=True)\n",
    "    else:\n",
    "        point = helper.get_intensity_points(bl, cmp)\n",
    "    points_blue.append(point)\n",
    "\n",
    "#Red\n",
    "points_red = []\n",
    "for idx, (rd, cmp) in enumerate(red_composite):\n",
    "    if idx < len(red_composite)*percent_of_side or idx > len(red_composite)*(1-percent_of_side):\n",
    "        point = helper.get_intensity_points(rd, cmp, outer_bool=True)\n",
    "    else:\n",
    "        point = helper.get_intensity_points(rd, cmp)\n",
    "    points_red.append(point)"
   ]
  },
  {
   "attachments": {},
   "cell_type": "markdown",
   "metadata": {},
   "source": [
    "## Create gifs"
   ]
  },
  {
   "cell_type": "code",
   "execution_count": null,
   "metadata": {},
   "outputs": [],
   "source": [
    "#Blue vs red dist with images and mean over stack\n",
    "import imageio\n",
    "import os\n",
    "name_of_file = 'bluevsreddistwimg.gif'\n",
    "plotting_function = plots.blue_v_red_dist\n",
    "data = {}\n",
    "data['points_blue'] = points_blue\n",
    "data['points_red'] = points_red\n",
    "data['inner_mean'] = []\n",
    "data['outer_mean'] = []\n",
    "plots.create_gif(name_of_file, plotting_function, percent_of_side, images, data)\n",
    "#plt inner mean and outer mean\n",
    "plt.plot(data['inner_mean'], label='Inner', color='r')\n",
    "plt.plot(data['outer_mean'], label='Outer', color='b')"
   ]
  },
  {
   "cell_type": "code",
   "execution_count": null,
   "metadata": {},
   "outputs": [],
   "source": [
    "#Blue vs red dist with images and mean over stack\n",
    "import imageio\n",
    "import os\n",
    "name_of_file = 'bluevsreddistwimgmed.gif'\n",
    "plotting_function = plots.blue_v_red_dist_median\n",
    "data = {}\n",
    "data['points_blue'] = points_blue\n",
    "data['points_red'] = points_red\n",
    "data['inner_mean'] = []\n",
    "data['outer_mean'] = []\n",
    "plots.create_gif(name_of_file, plotting_function, percent_of_side, images, data)\n",
    "#plt inner mean and outer mean\n",
    "plt.plot(data['inner_mean'], label='Inner', color='r')\n",
    "plt.plot(data['outer_mean'], label='Outer', color='b')"
   ]
  },
  {
   "attachments": {},
   "cell_type": "markdown",
   "metadata": {},
   "source": [
    "To get 3D projection gif from ImageJ example:\n",
    "```\n",
    "selectWindow(\"34a-dbl_0002.tif\"); \n",
    "run(\"3D Project...\", \"projection=[Brightest Point] axis=Y-Axis slice=1 initial=0 total=360 rotation=10 lower=1 upper=255 opacity=0 surface=100 interior=50 interpolate\");\n",
    "```\n",
    "\n",
    "To get montage:\n",
    "```\n",
    "run(\"Make Montage...\", \"columns=12 rows=10 scale=0.25\");\n",
    "```"
   ]
  }
 ],
 "metadata": {
  "kernelspec": {
   "display_name": "base",
   "language": "python",
   "name": "python3"
  },
  "language_info": {
   "codemirror_mode": {
    "name": "ipython",
    "version": 3
   },
   "file_extension": ".py",
   "mimetype": "text/x-python",
   "name": "python",
   "nbconvert_exporter": "python",
   "pygments_lexer": "ipython3",
   "version": "3.9.10 | packaged by conda-forge | (main, Feb  1 2022, 21:27:43) \n[Clang 11.1.0 ]"
  },
  "orig_nbformat": 4,
  "vscode": {
   "interpreter": {
    "hash": "224d2b38dd5c4bf9bb346b4b7ffc570356b5a9eca7c29d4f05461d7abc1d8f91"
   }
  }
 },
 "nbformat": 4,
 "nbformat_minor": 2
}
